{
 "cells": [
  {
   "cell_type": "code",
   "execution_count": 1,
   "metadata": {
    "collapsed": true
   },
   "outputs": [],
   "source": [
    "'''\n",
    "用KNN填充，删除时间，用每个工序的时间差代替\n",
    "'''\n",
    "import warnings\n",
    "import pandas as pd\n",
    "\n",
    "warnings.filterwarnings('ignore')\n",
    "\n",
    "train = pd.read_excel('H:\\\\java\\\\python\\\\src\\\\machinelearning\\\\seconddata\\\\raw_data\\\\训练_20180117.xlsx')\n",
    "test_A = pd.read_excel('H:\\\\java\\\\python\\\\src\\\\machinelearning\\\\seconddata\\\\raw_data\\\\测试A_20180117.xlsx')\n",
    "test_B = pd.read_excel('H:\\\\java\\\\python\\\\src\\\\machinelearning\\\\seconddata\\\\raw_data\\\\测试B_20180117.xlsx')\n",
    "train_data = pd.concat([train,test_A,test_B]) # ignore_index=False\n",
    "data = train_data.drop('ID',axis=1)\n",
    "target = data['Value']\n",
    "target = target[0:800]\n",
    "data = data.drop('Value',axis=1)\n",
    "missing_count = data.apply(lambda x: sum(x.isnull()))"
   ]
  },
  {
   "cell_type": "code",
   "execution_count": 2,
   "metadata": {
    "collapsed": true
   },
   "outputs": [],
   "source": [
    "# 1，删除缺失较多的特征\n",
    "more_missing = missing_count[missing_count>=1511]\n",
    "more_missing_index = list(more_missing.index)\n",
    "data = data.drop(more_missing_index,axis=1)"
   ]
  },
  {
   "cell_type": "code",
   "execution_count": 3,
   "metadata": {
    "collapsed": true
   },
   "outputs": [],
   "source": [
    "# 取出tool_ID\n",
    "tool_cols = ['TOOL' , 'Tool', 'TOOL_ID','Tool (#1)','TOOL (#1)','TOOL (#2)',\n",
    "                 'Tool (#2)','Tool (#3)','Tool (#4)','OPERATION_ID','Tool (#5)','TOOL (#3)']\n",
    "gongxue_data = data[tool_cols]\n",
    "\n",
    "data=data.drop(tool_cols,axis=1)"
   ]
  },
  {
   "cell_type": "code",
   "execution_count": 4,
   "metadata": {
    "collapsed": true
   },
   "outputs": [],
   "source": [
    "# 导入KNN填充后的数据\n",
    "# 加载KNN填充后的数据\n",
    "data = pd.read_excel(  'H:\\\\java\\\\python\\\\src\\\\machinelearning\\\\runtime_schame\\\\feature2\\\\imputed_data.xlsx')"
   ]
  },
  {
   "cell_type": "code",
   "execution_count": 5,
   "metadata": {
    "collapsed": true
   },
   "outputs": [],
   "source": [
    "# 删除时间\n",
    "import re\n",
    "\n",
    "def as_num(x):\n",
    "    y='{:.0f}'.format(x) # 0f表示保留5位小数点的float型\n",
    "    return (y)\n",
    "# 删除时间\n",
    "def extract_time ( data ) :\n",
    "    '''\n",
    "    用正则表达式把每道工序中的数据提取出来\n",
    "    '''\n",
    "    raw_data = data\n",
    "    feature_cols = raw_data.columns\n",
    "    date_cols = [ ] # store date data\n",
    "    rule =  r'^2017|2016'\n",
    "    compiled_rule = re.compile(rule)   \n",
    "    for feture_index in range(len(feature_cols)):\n",
    "        if( compiled_rule.findall(as_num(raw_data.ix[0,feture_index]))==['2017'] or \n",
    "            compiled_rule.findall(as_num(raw_data.ix[0,feture_index]))==['2016']):\n",
    "            if( len(as_num(raw_data.ix[0,feture_index]))==8  or \n",
    "                len(as_num(raw_data.ix[0,feture_index]))==14 or\n",
    "                len(as_num(raw_data.ix[0,feture_index]))==16 ):\n",
    "                date_cols.append(feature_cols[feture_index]) \n",
    "    \n",
    "    date = data[date_cols]\n",
    "    data.drop(date_cols,axis=1,inplace = True)\n",
    "            \n",
    "    return data ,date"
   ]
  },
  {
   "cell_type": "code",
   "execution_count": 6,
   "metadata": {
    "collapsed": true
   },
   "outputs": [],
   "source": [
    "# data1,date1 = extract_time ( data )\n",
    "# data1.to_excel( 'H:\\\\java\\\\python\\\\src\\\\machinelearning\\\\runtime_schame\\\\feature4\\\\que_date_data.xlsx')"
   ]
  },
  {
   "cell_type": "code",
   "execution_count": null,
   "metadata": {
    "collapsed": true
   },
   "outputs": [],
   "source": [
    "# 加载添加时间差数据"
   ]
  },
  {
   "cell_type": "code",
   "execution_count": null,
   "metadata": {
    "collapsed": true
   },
   "outputs": [],
   "source": []
  },
  {
   "cell_type": "code",
   "execution_count": null,
   "metadata": {
    "collapsed": true
   },
   "outputs": [],
   "source": []
  },
  {
   "cell_type": "code",
   "execution_count": null,
   "metadata": {
    "collapsed": true
   },
   "outputs": [],
   "source": []
  },
  {
   "cell_type": "code",
   "execution_count": null,
   "metadata": {
    "collapsed": true
   },
   "outputs": [],
   "source": []
  }
 ],
 "metadata": {
  "kernelspec": {
   "display_name": "Python 3",
   "language": "python",
   "name": "python3"
  },
  "language_info": {
   "codemirror_mode": {
    "name": "ipython",
    "version": 3
   },
   "file_extension": ".py",
   "mimetype": "text/x-python",
   "name": "python",
   "nbconvert_exporter": "python",
   "pygments_lexer": "ipython3",
   "version": "3.6.3"
  }
 },
 "nbformat": 4,
 "nbformat_minor": 2
}
