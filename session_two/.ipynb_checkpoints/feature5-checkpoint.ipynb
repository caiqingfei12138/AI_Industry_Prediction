{
 "cells": [
  {
   "cell_type": "code",
   "execution_count": null,
   "metadata": {},
   "outputs": [],
   "source": [
    "# build moudel\n",
    "import xgboost as xgb\n",
    "from sklearn.model_selection import train_test_split\n",
    "import numpy as np\n",
    "import pandas as pd\n",
    "from sklearn.metrics import mean_squared_error\n",
    "from sklearn import ensemble, linear_model\n",
    "from sklearn.linear_model.base import LinearRegression\n",
    "from sklearn.neural_network.multilayer_perceptron import MLPRegressor\n",
    "from sklearn.svm.classes import SVR\n",
    "from sklearn.tree.tree import ExtraTreeRegressor, DecisionTreeRegressor\n",
    "from sklearn.ensemble.bagging import BaggingRegressor\n",
    "import warnings\n",
    "warnings.filterwarnings('ignore')\n",
    "data = pd.read_csv('H:\\\\java\\\\python\\\\src\\\\machinelearning\\\\seconddata\\\\shen\\\\less_one_hot\\\\data.csv')\n",
    "target = data['Value']\n",
    "data.drop(['ID','Value'],axis=1,inplace=True)\n",
    "test = pd.read_csv('H:\\\\java\\\\python\\\\src\\\\machinelearning\\\\seconddata\\\\shen\\\\less_one_hot\\\\testB.csv')\n",
    "data.drop(['ID','Value'],axis=1,inplace=True)"
   ]
  },
  {
   "cell_type": "code",
   "execution_count": null,
   "metadata": {
    "collapsed": true
   },
   "outputs": [],
   "source": [
    "# features = data.ix[0:1099,:]\n",
    "# names = features.columns"
   ]
  },
  {
   "cell_type": "code",
   "execution_count": null,
   "metadata": {
    "collapsed": true
   },
   "outputs": [],
   "source": [
    "# from sklearn.linear_model import RandomizedLasso\n",
    "# rlasso = RandomizedLasso(alpha=0.0005)\n",
    "# rlasso.fit(features, target)\n",
    "# good_scores = [ ]\n",
    "# good_features = [ ]\n",
    "# print (\"Features sorted by their score:\")\n",
    "# print (sorted(zip(map(lambda x: round(x, 4), rlasso.scores_), \n",
    "#                  names), reverse=True))\n",
    "\n",
    "# good_scores = rlasso.scores_"
   ]
  },
  {
   "cell_type": "code",
   "execution_count": null,
   "metadata": {
    "collapsed": true
   },
   "outputs": [],
   "source": [
    "# cols = data.columns\n",
    "# feture_cols = [ ] \n",
    "# for index in range(len(good_scores)):\n",
    "#      if (good_scores[index]>=0.1):\n",
    "#             feture_cols.append(cols[index])"
   ]
  },
  {
   "cell_type": "code",
   "execution_count": null,
   "metadata": {
    "collapsed": true
   },
   "outputs": [],
   "source": [
    "data = data[feture_cols]"
   ]
  },
  {
   "cell_type": "code",
   "execution_count": 2,
   "metadata": {},
   "outputs": [
    {
     "data": {
      "text/plain": [
       "(1100, 4500)"
      ]
     },
     "execution_count": 2,
     "metadata": {},
     "output_type": "execute_result"
    }
   ],
   "source": [
    "data.shape"
   ]
  },
  {
   "cell_type": "code",
   "execution_count": 3,
   "metadata": {
    "collapsed": true
   },
   "outputs": [],
   "source": [
    "# Imputer\n",
    "from sklearn.preprocessing import Imputer\n",
    "data = pd.DataFrame(Imputer().fit_transform(data))\n",
    "\n",
    "# 标准化\n",
    "from sklearn.preprocessing import StandardScaler\n",
    "Scaler_data = pd.DataFrame(StandardScaler().fit_transform(data))\n",
    "\n",
    "\n",
    "# 归一化\n",
    "from sklearn.preprocessing import MinMaxScaler\n",
    "#区间缩放，返回值为缩放到[0, 1]区间的数据\n",
    "MinMaxScaler_data = pd.DataFrame(MinMaxScaler().fit_transform(Scaler_data))\n",
    "\n",
    "# 方差分析\n",
    "from sklearn.feature_selection import VarianceThreshold\n",
    "#方差选择法，返回值为特征选择后的数据\n",
    "#参数threshold为方差的阈值\n",
    "VarianceThreshold_data = pd.DataFrame(VarianceThreshold(threshold=0.005).fit_transform(MinMaxScaler_data))"
   ]
  },
  {
   "cell_type": "code",
   "execution_count": null,
   "metadata": {
    "collapsed": true
   },
   "outputs": [],
   "source": []
  },
  {
   "cell_type": "code",
   "execution_count": null,
   "metadata": {
    "collapsed": true
   },
   "outputs": [],
   "source": [
    "# r, p=stats.pearsonr(s,y)\n",
    "# r,p"
   ]
  },
  {
   "cell_type": "code",
   "execution_count": 6,
   "metadata": {},
   "outputs": [
    {
     "data": {
      "image/png": "[encoded data removed]",
      "text/plain": [
       "<matplotlib.figure.Figure at 0x2c616228e48>"
      ]
     },
     "metadata": {},
     "output_type": "display_data"
    }
   ],
   "source": [
    "# 相关系数计算\n",
    "import scipy.stats as stats\n",
    "\n",
    "corr = []\n",
    "p_value = []\n",
    "corr_data = VarianceThreshold_data\n",
    "feature_cols = list(corr_data.columns)\n",
    "y_col = target\n",
    "for index_x in range(len(feature_cols)):\n",
    "        r, p=stats.pearsonr(corr_data[index_x],target)\n",
    "        corr.append(r)\n",
    "        p_value.append(p)\n",
    "        \n",
    "import matplotlib.pyplot as plt\n",
    "\n",
    "plt.plot(corr)\n",
    "plt.show()"
   ]
  },
  {
   "cell_type": "code",
   "execution_count": null,
   "metadata": {
    "collapsed": true
   },
   "outputs": [],
   "source": []
  },
  {
   "cell_type": "code",
   "execution_count": null,
   "metadata": {
    "collapsed": true
   },
   "outputs": [],
   "source": []
  },
  {
   "cell_type": "code",
   "execution_count": null,
   "metadata": {
    "collapsed": true
   },
   "outputs": [],
   "source": []
  },
  {
   "cell_type": "code",
   "execution_count": 7,
   "metadata": {
    "collapsed": true
   },
   "outputs": [],
   "source": [
    "s_corr = pd.Series(corr)\n",
    "corr_filter = s_corr[abs(s_corr)>0.06]   # 阈值需要调整\n",
    "corr_cols=corr_filter.index\n",
    "data = VarianceThreshold_data[corr_cols]"
   ]
  },
  {
   "cell_type": "code",
   "execution_count": 8,
   "metadata": {},
   "outputs": [
    {
     "data": {
      "text/plain": [
       "(1100, 2153)"
      ]
     },
     "execution_count": 8,
     "metadata": {},
     "output_type": "execute_result"
    }
   ],
   "source": [
    "data.shape"
   ]
  },
  {
   "cell_type": "code",
   "execution_count": null,
   "metadata": {
    "collapsed": true
   },
   "outputs": [],
   "source": [
    "# # PCA降维\n",
    "# from sklearn.decomposition import PCA  \n",
    "# pca = PCA(n_components=len(data.columns), copy=True, whiten=False) \n",
    "# pca_data = pca.fit(data)\n",
    "# pca_raito= pca_data.explained_variance_ratio_\n",
    "# total = sum(pca_raito)\n",
    "# sum_ratio = 0\n",
    "# for index in range(len(pca_raito)):\n",
    "#     sum_raito = sum(pca_raito[0:index])\n",
    "#     if((sum_raito/total)>0.9999):\n",
    "#         print(index)\n",
    "#         break "
   ]
  },
  {
   "cell_type": "code",
   "execution_count": null,
   "metadata": {
    "collapsed": true
   },
   "outputs": [],
   "source": [
    "# # 降维\n",
    "# from sklearn.decomposition import PCA\n",
    "# data_pca = pd.DataFrame(PCA(n_components=549).fit_transform(data))"
   ]
  },
  {
   "cell_type": "code",
   "execution_count": null,
   "metadata": {
    "collapsed": true
   },
   "outputs": [],
   "source": []
  },
  {
   "cell_type": "code",
   "execution_count": 9,
   "metadata": {},
   "outputs": [
    {
     "data": {
      "text/html": [
       "<div>\n",
       "<style scoped>\n",
       "    .dataframe tbody tr th:only-of-type {\n",
       "        vertical-align: middle;\n",
       "    }\n",
       "\n",
       "    .dataframe tbody tr th {\n",
       "        vertical-align: top;\n",
       "    }\n",
       "\n",
       "    .dataframe thead th {\n",
       "        text-align: right;\n",
       "    }\n",
       "</style>\n",
       "<table border=\"1\" class=\"dataframe\">\n",
       "  <thead>\n",
       "    <tr style=\"text-align: right;\">\n",
       "      <th></th>\n",
       "      <th>0</th>\n",
       "      <th>2</th>\n",
       "      <th>4</th>\n",
       "      <th>5</th>\n",
       "      <th>7</th>\n",
       "      <th>9</th>\n",
       "      <th>10</th>\n",
       "      <th>14</th>\n",
       "      <th>15</th>\n",
       "      <th>16</th>\n",
       "      <th>...</th>\n",
       "      <th>3901</th>\n",
       "      <th>3902</th>\n",
       "      <th>3903</th>\n",
       "      <th>3904</th>\n",
       "      <th>3905</th>\n",
       "      <th>3906</th>\n",
       "      <th>3907</th>\n",
       "      <th>3908</th>\n",
       "      <th>3909</th>\n",
       "      <th>3913</th>\n",
       "    </tr>\n",
       "  </thead>\n",
       "  <tbody>\n",
       "    <tr>\n",
       "      <th>0</th>\n",
       "      <td>0.980966</td>\n",
       "      <td>0.325581</td>\n",
       "      <td>0.673715</td>\n",
       "      <td>0.343440</td>\n",
       "      <td>0.768595</td>\n",
       "      <td>0.836735</td>\n",
       "      <td>0.329628</td>\n",
       "      <td>0.980966</td>\n",
       "      <td>0.792191</td>\n",
       "      <td>0.565225</td>\n",
       "      <td>...</td>\n",
       "      <td>0.593909</td>\n",
       "      <td>0.593909</td>\n",
       "      <td>1.0</td>\n",
       "      <td>1.0</td>\n",
       "      <td>1.0</td>\n",
       "      <td>1.0</td>\n",
       "      <td>1.0</td>\n",
       "      <td>1.0</td>\n",
       "      <td>0.593909</td>\n",
       "      <td>0.0</td>\n",
       "    </tr>\n",
       "    <tr>\n",
       "      <th>1</th>\n",
       "      <td>0.980966</td>\n",
       "      <td>0.325581</td>\n",
       "      <td>0.672175</td>\n",
       "      <td>0.278723</td>\n",
       "      <td>0.705234</td>\n",
       "      <td>0.826531</td>\n",
       "      <td>0.329401</td>\n",
       "      <td>0.980966</td>\n",
       "      <td>0.784147</td>\n",
       "      <td>0.535454</td>\n",
       "      <td>...</td>\n",
       "      <td>0.588832</td>\n",
       "      <td>0.588832</td>\n",
       "      <td>1.0</td>\n",
       "      <td>1.0</td>\n",
       "      <td>1.0</td>\n",
       "      <td>1.0</td>\n",
       "      <td>1.0</td>\n",
       "      <td>1.0</td>\n",
       "      <td>0.588832</td>\n",
       "      <td>0.0</td>\n",
       "    </tr>\n",
       "    <tr>\n",
       "      <th>2</th>\n",
       "      <td>0.980966</td>\n",
       "      <td>0.325581</td>\n",
       "      <td>0.673155</td>\n",
       "      <td>0.323404</td>\n",
       "      <td>0.617080</td>\n",
       "      <td>0.843537</td>\n",
       "      <td>0.329401</td>\n",
       "      <td>0.980966</td>\n",
       "      <td>0.788827</td>\n",
       "      <td>0.551654</td>\n",
       "      <td>...</td>\n",
       "      <td>0.593909</td>\n",
       "      <td>0.593909</td>\n",
       "      <td>1.0</td>\n",
       "      <td>1.0</td>\n",
       "      <td>1.0</td>\n",
       "      <td>1.0</td>\n",
       "      <td>1.0</td>\n",
       "      <td>1.0</td>\n",
       "      <td>0.593909</td>\n",
       "      <td>0.0</td>\n",
       "    </tr>\n",
       "    <tr>\n",
       "      <th>3</th>\n",
       "      <td>0.980478</td>\n",
       "      <td>0.325581</td>\n",
       "      <td>0.672595</td>\n",
       "      <td>0.413298</td>\n",
       "      <td>0.776860</td>\n",
       "      <td>0.812925</td>\n",
       "      <td>0.329174</td>\n",
       "      <td>0.980478</td>\n",
       "      <td>0.785025</td>\n",
       "      <td>0.593299</td>\n",
       "      <td>...</td>\n",
       "      <td>0.593909</td>\n",
       "      <td>0.593909</td>\n",
       "      <td>1.0</td>\n",
       "      <td>1.0</td>\n",
       "      <td>1.0</td>\n",
       "      <td>1.0</td>\n",
       "      <td>1.0</td>\n",
       "      <td>1.0</td>\n",
       "      <td>0.593909</td>\n",
       "      <td>0.0</td>\n",
       "    </tr>\n",
       "    <tr>\n",
       "      <th>4</th>\n",
       "      <td>0.877501</td>\n",
       "      <td>0.558140</td>\n",
       "      <td>0.692620</td>\n",
       "      <td>0.200355</td>\n",
       "      <td>0.247934</td>\n",
       "      <td>0.843537</td>\n",
       "      <td>0.485708</td>\n",
       "      <td>0.877501</td>\n",
       "      <td>0.712050</td>\n",
       "      <td>0.306277</td>\n",
       "      <td>...</td>\n",
       "      <td>0.771574</td>\n",
       "      <td>0.771574</td>\n",
       "      <td>1.0</td>\n",
       "      <td>1.0</td>\n",
       "      <td>1.0</td>\n",
       "      <td>1.0</td>\n",
       "      <td>1.0</td>\n",
       "      <td>1.0</td>\n",
       "      <td>0.771574</td>\n",
       "      <td>0.0</td>\n",
       "    </tr>\n",
       "  </tbody>\n",
       "</table>\n",
       "<p>5 rows × 2153 columns</p>\n",
       "</div>"
      ],
      "text/plain": [
       "       0         2         4         5         7         9         10    \\\n",
       "0  0.980966  0.325581  0.673715  0.343440  0.768595  0.836735  0.329628   \n",
       "1  0.980966  0.325581  0.672175  0.278723  0.705234  0.826531  0.329401   \n",
       "2  0.980966  0.325581  0.673155  0.323404  0.617080  0.843537  0.329401   \n",
       "3  0.980478  0.325581  0.672595  0.413298  0.776860  0.812925  0.329174   \n",
       "4  0.877501  0.558140  0.692620  0.200355  0.247934  0.843537  0.485708   \n",
       "\n",
       "       14        15        16    ...       3901      3902  3903  3904  3905  \\\n",
       "0  0.980966  0.792191  0.565225  ...   0.593909  0.593909   1.0   1.0   1.0   \n",
       "1  0.980966  0.784147  0.535454  ...   0.588832  0.588832   1.0   1.0   1.0   \n",
       "2  0.980966  0.788827  0.551654  ...   0.593909  0.593909   1.0   1.0   1.0   \n",
       "3  0.980478  0.785025  0.593299  ...   0.593909  0.593909   1.0   1.0   1.0   \n",
       "4  0.877501  0.712050  0.306277  ...   0.771574  0.771574   1.0   1.0   1.0   \n",
       "\n",
       "   3906  3907  3908      3909  3913  \n",
       "0   1.0   1.0   1.0  0.593909   0.0  \n",
       "1   1.0   1.0   1.0  0.588832   0.0  \n",
       "2   1.0   1.0   1.0  0.593909   0.0  \n",
       "3   1.0   1.0   1.0  0.593909   0.0  \n",
       "4   1.0   1.0   1.0  0.771574   0.0  \n",
       "\n",
       "[5 rows x 2153 columns]"
      ]
     },
     "execution_count": 9,
     "metadata": {},
     "output_type": "execute_result"
    }
   ],
   "source": [
    "data.head()"
   ]
  },
  {
   "cell_type": "code",
   "execution_count": 10,
   "metadata": {
    "collapsed": true
   },
   "outputs": [],
   "source": [
    "# train = data.ix[0:1099,:]\n",
    "# testB = data.ix[1100:,:]\n",
    "train = data\n",
    "testB = testB"
   ]
  },
  {
   "cell_type": "code",
   "execution_count": null,
   "metadata": {},
   "outputs": [],
   "source": [
    "train.shape"
   ]
  },
  {
   "cell_type": "code",
   "execution_count": null,
   "metadata": {},
   "outputs": [],
   "source": [
    "# build moudel\n",
    "import xgboost as xgb\n",
    "from sklearn.model_selection import train_test_split\n",
    "import numpy as np\n",
    "import pandas as pd\n",
    "from sklearn.metrics import mean_squared_error\n",
    "from sklearn import ensemble, linear_model\n",
    "from sklearn.linear_model.base import LinearRegression\n",
    "from sklearn.neural_network.multilayer_perceptron import MLPRegressor\n",
    "from sklearn.svm.classes import SVR\n",
    "from sklearn.tree.tree import ExtraTreeRegressor, DecisionTreeRegressor\n",
    "from sklearn.ensemble.bagging import BaggingRegressor\n",
    "mse = []\n",
    "sum_mse = 0.0\n",
    "B = pd.DataFrame(np.zeros((412,10)))\n",
    "for index in range(10):\n",
    "    X_train, X_test, y_train, y_test = train_test_split(train, target,test_size=0.1) \n",
    "    model=SVR(\n",
    "                 kernel='rbf', \n",
    "                 degree=10,\n",
    "                gamma= 0.0015,\n",
    "                coef0=0.1, \n",
    "                tol=0.001, \n",
    "                C=3,\n",
    "                epsilon= 0.005, \n",
    "                shrinking=True, \n",
    "                cache_size=500, \n",
    "                verbose=False, \n",
    "                max_iter=-1)\n",
    "    \n",
    "    model.fit(X_train, y_train)\n",
    "    y_pred = model.predict(X_test)\n",
    "    sum_mse += mean_squared_error(y_test,y_pred)\n",
    "    mse.append(mean_squared_error(y_test,y_pred))\n",
    "    predict = pd.DataFrame(model.predict(testB))\n",
    "    B[index] = predict\n",
    "#         print(\"index: \",index,mean_squared_error(y_test,y_pred))\n",
    "print(pd.DataFrame(mse))\n",
    "print('-----------------------------------------')\n",
    "print(sum_mse/10)"
   ]
  },
  {
   "cell_type": "code",
   "execution_count": null,
   "metadata": {},
   "outputs": [],
   "source": [
    "B.var() , B.mean( )"
   ]
  },
  {
   "cell_type": "code",
   "execution_count": null,
   "metadata": {
    "collapsed": true
   },
   "outputs": [],
   "source": [
    "B.to_csv( 'H:\\\\java\\\\python\\\\src\\\\machinelearning\\\\runtime_schame\\\\feature5\\\\2018-1-25\\\\svr1_1.csv')"
   ]
  },
  {
   "cell_type": "code",
   "execution_count": null,
   "metadata": {},
   "outputs": [],
   "source": [
    "# XGBOOST\n",
    "# build moudel\n",
    "import xgboost as xgb\n",
    "from sklearn.model_selection import train_test_split\n",
    "import numpy as np\n",
    "import pandas as pd\n",
    "from sklearn.metrics import mean_squared_error\n",
    "from sklearn import ensemble, linear_model\n",
    "from sklearn.linear_model.base import LinearRegression\n",
    "from sklearn.neural_network.multilayer_perceptron import MLPRegressor\n",
    "from sklearn.svm.classes import SVR\n",
    "from sklearn.tree.tree import ExtraTreeRegressor, DecisionTreeRegressor\n",
    "from sklearn.ensemble.bagging import BaggingRegressor\n",
    "mse = []\n",
    "B = pd.DataFrame(np.zeros((412,10)))\n",
    "sum_mse = 0.0\n",
    "\n",
    "for index in range(10):\n",
    "    X_train, X_test, y_train, y_test = train_test_split(train, target,test_size=0.1) \n",
    "    model = xgb.XGBRegressor(model=SVR(kernel='rbf', degree=5,gamma = 'auto' , C=2,epsilon= 0.05)\n",
    "                               )\n",
    "                            \n",
    "    model.fit(X_train, y_train)\n",
    "    y_pred = model.predict(X_test)\n",
    "    mse.append(mean_squared_error(y_test,y_pred))\n",
    "    sum_mse += mean_squared_error(y_test,y_pred)\n",
    "    predict = pd.DataFrame(model.predict(testB))\n",
    "    B[index] = predict\n",
    "print(pd.DataFrame(mse))\n",
    "print('------------------------------------------------------------')\n",
    "print(sum_mse/10)"
   ]
  },
  {
   "cell_type": "code",
   "execution_count": null,
   "metadata": {},
   "outputs": [],
   "source": [
    "B.var() , B.mean( )"
   ]
  },
  {
   "cell_type": "code",
   "execution_count": null,
   "metadata": {
    "collapsed": true
   },
   "outputs": [],
   "source": [
    "B.head()"
   ]
  },
  {
   "cell_type": "code",
   "execution_count": null,
   "metadata": {
    "collapsed": true
   },
   "outputs": [],
   "source": [
    "B.to_csv( 'H:\\\\java\\\\python\\\\src\\\\machinelearning\\\\runtime_schame\\\\feature5\\\\2018-1-25\\\\XGB1_2.csv')"
   ]
  },
  {
   "cell_type": "code",
   "execution_count": null,
   "metadata": {
    "collapsed": true
   },
   "outputs": [],
   "source": []
  },
  {
   "cell_type": "code",
   "execution_count": null,
   "metadata": {},
   "outputs": [],
   "source": [
    "# XGBOOST\n",
    "# build moudel\n",
    "import xgboost as xgb\n",
    "from sklearn.model_selection import train_test_split\n",
    "import numpy as np\n",
    "import pandas as pd\n",
    "from sklearn.metrics import mean_squared_error\n",
    "from sklearn import ensemble, linear_model\n",
    "from sklearn.linear_model.base import LinearRegression\n",
    "from sklearn.neural_network.multilayer_perceptron import MLPRegressor\n",
    "from sklearn.svm.classes import SVR\n",
    "from sklearn.tree.tree import ExtraTreeRegressor, DecisionTreeRegressor\n",
    "from sklearn.ensemble.bagging import BaggingRegressor\n",
    "mse = []\n",
    "B = pd.DataFrame(np.zeros((300,10)))\n",
    "sum_mse = 0.0\n",
    "\n",
    "for index in range(10):\n",
    "    X_train, X_test, y_train, y_test = train_test_split(train, target,test_size=0.1) \n",
    "    model = xgb.XGBRegressor(model = xgb.XGBRegressor(max_depth=6, # 8    此处MSE为0.013\n",
    "                                     min_child_weigh=5,\n",
    "                                     eta=0.1,\n",
    "                                     gamma=0.06,\n",
    "                                     subsample=0.8,\n",
    "                                     learning_rate=0.001, \n",
    "                                     n_estimators=1000, \n",
    "                                     silent=0, \n",
    "                                     n_jobs=-1,\n",
    "                                     objective='reg:linear')\n",
    "                               )\n",
    "    model.fit(X_train, y_train)\n",
    "    y_pred = model.predict(X_test)\n",
    "    mse.append(mean_squared_error(y_test,y_pred))\n",
    "    sum_mse += mean_squared_error(y_test,y_pred)\n",
    "    predict = pd.DataFrame(model.predict(testB))\n",
    "    B[index] = predict\n",
    "print(pd.DataFrame(mse))\n",
    "print('------------------------------------------------------------')\n",
    "print(sum_mse/10)"
   ]
  },
  {
   "cell_type": "code",
   "execution_count": null,
   "metadata": {},
   "outputs": [],
   "source": [
    "B.var() , B.mean( )"
   ]
  },
  {
   "cell_type": "code",
   "execution_count": null,
   "metadata": {
    "collapsed": true
   },
   "outputs": [],
   "source": [
    "B.to_csv( 'H:\\\\java\\\\python\\\\src\\\\machinelearning\\\\runtime_schame\\\\feature5\\\\2018-1-25\\\\XGB1_3.csv')"
   ]
  },
  {
   "cell_type": "code",
   "execution_count": null,
   "metadata": {
    "collapsed": true
   },
   "outputs": [],
   "source": []
  },
  {
   "cell_type": "code",
   "execution_count": null,
   "metadata": {
    "collapsed": true
   },
   "outputs": [],
   "source": [
    "\n"
   ]
  },
  {
   "cell_type": "code",
   "execution_count": null,
   "metadata": {
    "collapsed": true
   },
   "outputs": [],
   "source": []
  },
  {
   "cell_type": "code",
   "execution_count": null,
   "metadata": {
    "collapsed": true
   },
   "outputs": [],
   "source": []
  },
  {
   "cell_type": "code",
   "execution_count": null,
   "metadata": {
    "collapsed": true
   },
   "outputs": [],
   "source": []
  }
 ],
 "metadata": {
  "kernelspec": {
   "display_name": "Python 3",
   "language": "python",
   "name": "python3"
  }
 },
 "nbformat": 4,
 "nbformat_minor": 2
}
