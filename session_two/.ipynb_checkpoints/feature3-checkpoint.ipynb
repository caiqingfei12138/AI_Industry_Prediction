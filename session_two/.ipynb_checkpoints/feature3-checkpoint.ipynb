{
 "cells": [
  {
   "cell_type": "code",
   "execution_count": 1,
   "metadata": {
    "collapsed": true
   },
   "outputs": [],
   "source": [
    "'''\n",
    "用均值填充，删除时间，用每个工序的时间差代替\n",
    "'''\n",
    "import warnings\n",
    "import pandas as pd\n",
    "\n",
    "warnings.filterwarnings('ignore')\n",
    "\n",
    "train = pd.read_excel('H:\\\\java\\\\python\\\\src\\\\machinelearning\\\\seconddata\\\\raw_data\\\\训练_20180117.xlsx')\n",
    "test_A = pd.read_excel('H:\\\\java\\\\python\\\\src\\\\machinelearning\\\\seconddata\\\\raw_data\\\\测试A_20180117.xlsx')\n",
    "test_B = pd.read_excel('H:\\\\java\\\\python\\\\src\\\\machinelearning\\\\seconddata\\\\raw_data\\\\测试B_20180117.xlsx')\n",
    "train_data = pd.concat([train,test_A,test_B]) # ignore_index=False\n",
    "data = train_data.drop('ID',axis=1)\n",
    "target = data['Value']\n",
    "target = target[0:800]\n",
    "data = data.drop('Value',axis=1)\n",
    "missing_count = data.apply(lambda x: sum(x.isnull()))\n"
   ]
  },
  {
   "cell_type": "code",
   "execution_count": 2,
   "metadata": {
    "collapsed": true
   },
   "outputs": [],
   "source": [
    "# 1，删除缺失较多的特征\n",
    "more_missing = missing_count[missing_count>=1511]\n",
    "more_missing_index = list(more_missing.index)\n",
    "data = data.drop(more_missing_index,axis=1)"
   ]
  },
  {
   "cell_type": "code",
   "execution_count": 3,
   "metadata": {
    "collapsed": true
   },
   "outputs": [],
   "source": [
    "# 取出tool_ID\n",
    "tool_cols = ['TOOL' , 'Tool', 'TOOL_ID','Tool (#1)','TOOL (#1)','TOOL (#2)',\n",
    "                 'Tool (#2)','Tool (#3)','Tool (#4)','OPERATION_ID','Tool (#5)','TOOL (#3)']\n",
    "gongxue_data = data[tool_cols]\n",
    "\n",
    "data=data.drop(tool_cols,axis=1)"
   ]
  },
  {
   "cell_type": "code",
   "execution_count": 4,
   "metadata": {
    "collapsed": true
   },
   "outputs": [],
   "source": [
    "# Imputer\n",
    "from sklearn.preprocessing import Imputer\n",
    "data = pd.DataFrame(Imputer().fit_transform(data))"
   ]
  },
  {
   "cell_type": "code",
   "execution_count": 7,
   "metadata": {
    "collapsed": true
   },
   "outputs": [],
   "source": [
    "import re\n",
    "\n",
    "def as_num(x):\n",
    "    y='{:.0f}'.format(x) # 0f表示保留5位小数点的float型\n",
    "    return (y)\n",
    "# 删除时间\n",
    "def extract_time ( data ) :\n",
    "    '''\n",
    "    用正则表达式把每道工序中的数据提取出来\n",
    "    '''\n",
    "    raw_data = data.ix[:,2:]\n",
    "    feature_cols = raw_data.columns\n",
    "    date_cols = [ ] # store date data\n",
    "    rule =  r'^2017|2016'\n",
    "    compiled_rule = re.compile(rule)   \n",
    "    for feture_index in range(len(feature_cols)):\n",
    "        if( compiled_rule.findall(as_num(raw_data.ix[0,feture_index]))==['2017'] or \n",
    "            compiled_rule.findall(as_num(raw_data.ix[0,feture_index]))==['2016']):\n",
    "            if( len(as_num(raw_data.ix[0,feture_index]))==8  or \n",
    "                len(as_num(raw_data.ix[0,feture_index]))==14 or\n",
    "                len(as_num(raw_data.ix[0,feture_index]))==16 ):\n",
    "                date_cols.append(feature_cols[feture_index]) \n",
    "    \n",
    "    date = data[date_cols]\n",
    "    data.drop(date_cols,axis=1,inplace = True)\n",
    "            \n",
    "    return data ,date"
   ]
  },
  {
   "cell_type": "code",
   "execution_count": 8,
   "metadata": {},
   "outputs": [
    {
     "ename": "NameError",
     "evalue": "name 'as_num' is not defined",
     "output_type": "error",
     "traceback": [
      "\u001b[1;31m---------------------------------------------------------------------------\u001b[0m",
      "\u001b[1;31mNameError\u001b[0m                                 Traceback (most recent call last)",
      "\u001b[1;32m<ipython-input-8-8b087f6a0de3>\u001b[0m in \u001b[0;36m<module>\u001b[1;34m()\u001b[0m\n\u001b[1;32m----> 1\u001b[1;33m \u001b[0mdata\u001b[0m \u001b[1;33m=\u001b[0m \u001b[0mextract_time\u001b[0m \u001b[1;33m(\u001b[0m \u001b[0mdata\u001b[0m \u001b[1;33m)\u001b[0m\u001b[1;33m\u001b[0m\u001b[0m\n\u001b[0m\u001b[0;32m      2\u001b[0m \u001b[0mdata\u001b[0m\u001b[1;33m.\u001b[0m\u001b[0mto_excel\u001b[0m\u001b[1;33m(\u001b[0m \u001b[1;34m'H:\\\\java\\\\python\\\\src\\\\machinelearning\\\\runtime_schame\\\\feature3\\\\data.xlsx'\u001b[0m\u001b[1;33m)\u001b[0m\u001b[1;33m\u001b[0m\u001b[0m\n",
      "\u001b[1;32m<ipython-input-7-785107ddf663>\u001b[0m in \u001b[0;36mextract_time\u001b[1;34m(data)\u001b[0m\n\u001b[0;32m     11\u001b[0m     \u001b[0mcompiled_rule\u001b[0m \u001b[1;33m=\u001b[0m \u001b[0mre\u001b[0m\u001b[1;33m.\u001b[0m\u001b[0mcompile\u001b[0m\u001b[1;33m(\u001b[0m\u001b[0mrule\u001b[0m\u001b[1;33m)\u001b[0m\u001b[1;33m\u001b[0m\u001b[0m\n\u001b[0;32m     12\u001b[0m     \u001b[1;32mfor\u001b[0m \u001b[0mfeture_index\u001b[0m \u001b[1;32min\u001b[0m \u001b[0mrange\u001b[0m\u001b[1;33m(\u001b[0m\u001b[0mlen\u001b[0m\u001b[1;33m(\u001b[0m\u001b[0mfeature_cols\u001b[0m\u001b[1;33m)\u001b[0m\u001b[1;33m)\u001b[0m\u001b[1;33m:\u001b[0m\u001b[1;33m\u001b[0m\u001b[0m\n\u001b[1;32m---> 13\u001b[1;33m         if( compiled_rule.findall(as_num(raw_data.ix[0,feture_index]))==['2017'] or \n\u001b[0m\u001b[0;32m     14\u001b[0m             compiled_rule.findall(as_num(raw_data.ix[0,feture_index]))==['2016']):\n\u001b[0;32m     15\u001b[0m             if( len(as_num(raw_data.ix[0,feture_index]))==8  or \n",
      "\u001b[1;31mNameError\u001b[0m: name 'as_num' is not defined"
     ]
    }
   ],
   "source": [
    "data = extract_time ( data )\n",
    "data.to_excel( 'H:\\\\java\\\\python\\\\src\\\\machinelearning\\\\runtime_schame\\\\feature3\\\\data.xlsx')"
   ]
  },
  {
   "cell_type": "code",
   "execution_count": null,
   "metadata": {
    "collapsed": true
   },
   "outputs": [],
   "source": [
    "# 把每道工序的时间差添加进去\n"
   ]
  }
 ],
 "metadata": {
  "kernelspec": {
   "display_name": "Python 3",
   "language": "python",
   "name": "python3"
  },
  "language_info": {
   "codemirror_mode": {
    "name": "ipython",
    "version": 3
   },
   "file_extension": ".py",
   "mimetype": "text/x-python",
   "name": "python",
   "nbconvert_exporter": "python",
   "pygments_lexer": "ipython3",
   "version": "3.6.3"
  }
 },
 "nbformat": 4,
 "nbformat_minor": 2
}
